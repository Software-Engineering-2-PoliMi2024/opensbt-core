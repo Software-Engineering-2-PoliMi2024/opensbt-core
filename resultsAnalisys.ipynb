{
 "cells": [
  {
   "cell_type": "code",
   "execution_count": 1,
   "id": "35e31f57",
   "metadata": {},
   "outputs": [],
   "source": [
    "from dbInteract import MongoInteract\n",
    "import numpy as np\n",
    "\n",
    "%load_ext autoreload\n",
    "%autoreload 2"
   ]
  },
  {
   "cell_type": "code",
   "execution_count": 2,
   "id": "15b75b58",
   "metadata": {},
   "outputs": [],
   "source": [
    "from dotenv import load_dotenv\n",
    "from os import getenv\n",
    "\n",
    "load_dotenv()\n",
    "DB_URI = getenv('DB_URI')"
   ]
  },
  {
   "cell_type": "code",
   "execution_count": 3,
   "id": "c875e41d",
   "metadata": {},
   "outputs": [],
   "source": [
    "NEGATIVE = '6899bccd222cfe69813e61e1'\n",
    "POSITIVE = '6899bfd1e2006a8494481749'\n",
    "EXPERIMENT_TIME_SEC = 708\n"
   ]
  },
  {
   "cell_type": "code",
   "execution_count": 4,
   "id": "7ed53bcd",
   "metadata": {},
   "outputs": [],
   "source": [
    "db = MongoInteract(DB_URI)\n",
    "if not db.connect():\n",
    "    raise ConnectionError(\"Unable to connect to dataBase\")\n",
    "\n",
    "scenario = db.extractScenario(NEGATIVE)\n",
    "experiments = db.extractExperimentsByScenario(POSITIVE)"
   ]
  },
  {
   "cell_type": "code",
   "execution_count": 5,
   "id": "002c1ecf",
   "metadata": {},
   "outputs": [
    {
     "name": "stdout",
     "output_type": "stream",
     "text": [
      "{'ego': [0.0, 0.0, 0.0, 5.92128, 11.868480000000002, 15.444719999999998, 21.65364, 26.19324, 29.80188, 31.81644, 32.64336, 32.71392, 31.6206, 30.971880000000002, 29.32164, 28.269000000000002, 27.50184, 25.55928, 24.884999999999998, 23.96592, 22.93344, 22.19688]}\n",
      "{'minSpeed': 2}\n",
      "30.0\n"
     ]
    }
   ],
   "source": [
    "print(experiments[1][\"out\"][\"speed\"])\n",
    "print(experiments[1][\"in\"])\n",
    "print(scenario[\"maxSpeed\"])\n"
   ]
  }
 ],
 "metadata": {
  "kernelspec": {
   "display_name": "opensbt",
   "language": "python",
   "name": "python3"
  },
  "language_info": {
   "codemirror_mode": {
    "name": "ipython",
    "version": 3
   },
   "file_extension": ".py",
   "mimetype": "text/x-python",
   "name": "python",
   "nbconvert_exporter": "python",
   "pygments_lexer": "ipython3",
   "version": "3.8.20"
  }
 },
 "nbformat": 4,
 "nbformat_minor": 5
}
